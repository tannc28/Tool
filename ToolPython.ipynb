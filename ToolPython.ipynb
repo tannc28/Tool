{
 "cells": [
  {
   "cell_type": "markdown",
   "id": "55384d97",
   "metadata": {},
   "source": [
    "## 1, Struct My Download"
   ]
  },
  {
   "cell_type": "code",
   "execution_count": 3,
   "id": "8bc5eb97",
   "metadata": {},
   "outputs": [
    {
     "name": "stdout",
     "output_type": "stream",
     "text": [
      "Organization of Downloads folder by extension is complete.\n",
      "Programs/\n",
      "    Everything-1.5.0.1396a.x64-Setup.exe (1.66 MB)\n"
     ]
    }
   ],
   "source": [
    "# Organize Downloads folder by extension\n",
    "from pathlib import Path\n",
    "\n",
    "# Folder to organize (e.g., Downloads)\n",
    "base_folder = Path.home() / \"Downloads\"\n",
    "\n",
    "# Define folders for each extension\n",
    "folders = {\n",
    "    \"images\": [\"jpg\", \"png\", \"gif\", \"bmp\"],\n",
    "    \"documents\": [\"txt\", \"pdf\", \"docx\"],\n",
    "    \"archives\": [\"zip\", \"rar\", \"tar\", \"gz\"],\n",
    "    \"audio\": [\"mp3\", \"wav\"],\n",
    "    # add more categories as needed\n",
    "}\n",
    "\n",
    "# Iterate over files in base_folder\n",
    "for item in base_folder.iterdir():\n",
    "    if item.is_file():\n",
    "        ext = item.suffix.lower().lstrip('.')\n",
    "        moved = False\n",
    "        # Determine which category folder to use\n",
    "        for folder, ext_list in folders.items():\n",
    "            if ext in ext_list:\n",
    "                dest_dir = base_folder / folder\n",
    "                dest_dir.mkdir(exist_ok=True)\n",
    "                item.rename(dest_dir / item.name)\n",
    "                moved = True\n",
    "                break\n",
    "        # If extension didn’t match any category, move to \"others\"\n",
    "        if not moved:\n",
    "            dest_dir = base_folder / \"others\"\n",
    "            dest_dir.mkdir(exist_ok=True)\n",
    "            item.rename(dest_dir / item.name)\n",
    "\n",
    "print(\"Organization of Downloads folder by extension is complete.\")\n",
    "\n",
    "# List structure of files and folders in Downloads folder (just 1 level, do not print base folder)\n",
    "def format_size(size_bytes):\n",
    "    for unit in ['B', 'KB', 'MB', 'GB', 'TB']:\n",
    "        if size_bytes < 1024:\n",
    "            return f\"{size_bytes:.2f} {unit}\"\n",
    "        size_bytes /= 1024\n",
    "    return f\"{size_bytes:.2f} PB\"\n",
    "\n",
    "for item in base_folder.iterdir():\n",
    "    if item.is_dir():\n",
    "        print(f\"{item.name}/\")\n",
    "        for subitem in item.iterdir():\n",
    "            if subitem.is_dir():\n",
    "                print(f\"    {subitem.name}/\")\n",
    "            else:\n",
    "                size = subitem.stat().st_size\n",
    "                print(f\"    {subitem.name} ({format_size(size)})\")\n",
    "    else:\n",
    "        size = item.stat().st_size\n",
    "        print(f\"{item.name} ({format_size(size)})\")"
   ]
  },
  {
   "cell_type": "code",
   "execution_count": 4,
   "id": "3ec79f35",
   "metadata": {},
   "outputs": [
    {
     "ename": "ModuleNotFoundError",
     "evalue": "No module named 'requests'",
     "output_type": "error",
     "traceback": [
      "\u001b[31m---------------------------------------------------------------------------\u001b[39m",
      "\u001b[31mModuleNotFoundError\u001b[39m                       Traceback (most recent call last)",
      "\u001b[36mCell\u001b[39m\u001b[36m \u001b[39m\u001b[32mIn[4]\u001b[39m\u001b[32m, line 1\u001b[39m\n\u001b[32m----> \u001b[39m\u001b[32m1\u001b[39m \u001b[38;5;28;01mimport\u001b[39;00m\u001b[38;5;250m \u001b[39m\u001b[34;01mrequests\u001b[39;00m\n\u001b[32m      3\u001b[39m response = requests.get(\u001b[33m\"\u001b[39m\u001b[33mhttps://jsonplaceholder.typicode.com/todos/1\u001b[39m\u001b[33m\"\u001b[39m)\n\u001b[32m      4\u001b[39m \u001b[38;5;28mprint\u001b[39m(response.text)\n",
      "\u001b[31mModuleNotFoundError\u001b[39m: No module named 'requests'"
     ]
    }
   ],
   "source": [
    "import requests\n",
    "\n",
    "response = requests.get(\"https://jsonplaceholder.typicode.com/todos/1\")\n",
    "print(response.text)"
   ]
  }
 ],
 "metadata": {
  "kernelspec": {
   "display_name": ".venv",
   "language": "python",
   "name": "python3"
  },
  "language_info": {
   "codemirror_mode": {
    "name": "ipython",
    "version": 3
   },
   "file_extension": ".py",
   "mimetype": "text/x-python",
   "name": "python",
   "nbconvert_exporter": "python",
   "pygments_lexer": "ipython3",
   "version": "3.13.7"
  }
 },
 "nbformat": 4,
 "nbformat_minor": 5
}
